{
  "nbformat": 4,
  "nbformat_minor": 0,
  "metadata": {
    "colab": {
      "name": "Untitled0.ipynb",
      "provenance": [],
      "collapsed_sections": [],
      "authorship_tag": "ABX9TyOyu25VkTwdeseyUWAr4vMd",
      "include_colab_link": true
    },
    "kernelspec": {
      "display_name": "Python 3",
      "name": "python3"
    },
    "language_info": {
      "name": "python"
    }
  },
  "cells": [
    {
      "cell_type": "markdown",
      "metadata": {
        "id": "view-in-github",
        "colab_type": "text"
      },
      "source": [
        "<a href=\"https://colab.research.google.com/github/ISHIKAGUPTA131/GAMES/blob/main/tiktoktoe.ipynb\" target=\"_parent\"><img src=\"https://colab.research.google.com/assets/colab-badge.svg\" alt=\"Open In Colab\"/></a>"
      ]
    },
    {
      "cell_type": "code",
      "metadata": {
        "id": "BNmET1Idllgv",
        "colab": {
          "base_uri": "https://localhost:8080/"
        },
        "outputId": "b051c967-b5a6-41d0-bdb8-4b77200cc1ac"
      },
      "source": [
        "thebr={'tr':'  ','tm':'  ','tl':'  ','mr':'  ','mm':'  ','ml':'   ','lr':'  ','lm':'  ','ll':'  '}\n",
        "print(thebr)"
      ],
      "execution_count": null,
      "outputs": [
        {
          "output_type": "stream",
          "name": "stdout",
          "text": [
            "{'tr': '  ', 'tm': '  ', 'tl': '  ', 'mr': '  ', 'mm': '  ', 'ml': '   ', 'lr': '  ', 'lm': '  ', 'll': '  '}\n"
          ]
        }
      ]
    },
    {
      "cell_type": "code",
      "metadata": {
        "id": "-eQ7oJNOl5sv"
      },
      "source": [
        "def dis(br):\n",
        " print(br['tr']+'|'+br['tm']+'|'+br['tl'])\n",
        " print('--+--+--')\n",
        " print(br['mr']+'|'+br['mm']+'|'+br['ml'])\n",
        " print('--+--+--')\n",
        " print(br['lr']+'|'+br['lm']+'|'+br['ll'])"
      ],
      "execution_count": null,
      "outputs": []
    },
    {
      "cell_type": "code",
      "metadata": {
        "colab": {
          "base_uri": "https://localhost:8080/"
        },
        "id": "Lwt0qWLHmDSV",
        "outputId": "6f6eec2e-86c4-4ae9-c15b-699d111b7ead"
      },
      "source": [
        " tr='X'\n",
        " for i in range(9):\n",
        "  dis(thebr)\n",
        "  print('turn for'+tr+'on which space?')\n",
        "  mv=input()\n",
        "  thebr[mv]=tr\n",
        "  if tr=='X':\n",
        "   tr='O'\n",
        "   print('turn for'+tr+'on which space?')\n",
        "  else:\n",
        "   tr='X'\n",
        "   dis(thebr)"
      ],
      "execution_count": null,
      "outputs": [
        {
          "output_type": "stream",
          "name": "stdout",
          "text": [
            "  |  |  \n",
            "--+--+--\n",
            "  |  |   \n",
            "--+--+--\n",
            "  |  |  \n",
            "turn forXon which space?\n",
            "tr\n",
            "turn forOon which space?\n",
            "X|  |  \n",
            "--+--+--\n",
            "  |  |   \n",
            "--+--+--\n",
            "  |  |  \n",
            "turn forOon which space?\n",
            "mm\n",
            "X|  |  \n",
            "--+--+--\n",
            "  |O|   \n",
            "--+--+--\n",
            "  |  |  \n",
            "X|  |  \n",
            "--+--+--\n",
            "  |O|   \n",
            "--+--+--\n",
            "  |  |  \n",
            "turn forXon which space?\n",
            "Mr\n",
            "turn forOon which space?\n",
            "X|  |  \n",
            "--+--+--\n",
            "  |O|   \n",
            "--+--+--\n",
            "  |  |  \n",
            "turn forOon which space?\n",
            "mr\n",
            "X|  |  \n",
            "--+--+--\n",
            "O|O|   \n",
            "--+--+--\n",
            "  |  |  \n",
            "X|  |  \n",
            "--+--+--\n",
            "O|O|   \n",
            "--+--+--\n",
            "  |  |  \n",
            "turn forXon which space?\n",
            "ml\n",
            "turn forOon which space?\n",
            "X|  |  \n",
            "--+--+--\n",
            "O|O|X\n",
            "--+--+--\n",
            "  |  |  \n",
            "turn forOon which space?\n",
            "tl\n",
            "X|  |O\n",
            "--+--+--\n",
            "O|O|X\n",
            "--+--+--\n",
            "  |  |  \n",
            "X|  |O\n",
            "--+--+--\n",
            "O|O|X\n",
            "--+--+--\n",
            "  |  |  \n",
            "turn forXon which space?\n",
            "lr\n",
            "turn forOon which space?\n",
            "X|  |O\n",
            "--+--+--\n",
            "O|O|X\n",
            "--+--+--\n",
            "X|  |  \n",
            "turn forOon which space?\n",
            "ll\n",
            "X|  |O\n",
            "--+--+--\n",
            "O|O|X\n",
            "--+--+--\n",
            "X|  |O\n",
            "X|  |O\n",
            "--+--+--\n",
            "O|O|X\n",
            "--+--+--\n",
            "X|  |O\n",
            "turn forXon which space?\n",
            "lm\n",
            "turn forOon which space?\n"
          ]
        }
      ]
    }
  ]
}